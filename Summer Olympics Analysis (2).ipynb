{
 "cells": [
  {
   "cell_type": "markdown",
   "id": "a0d2de38",
   "metadata": {},
   "source": [
    "# SUMMER OLYMPICS DATA-ANALYSIS ASSIGNMENT"
   ]
  },
  {
   "cell_type": "code",
   "execution_count": 1,
   "id": "d2bed951",
   "metadata": {},
   "outputs": [],
   "source": [
    "## Impoting module\n",
    "\n",
    "\n",
    "import pandas as pd"
   ]
  },
  {
   "cell_type": "code",
   "execution_count": 2,
   "id": "d4b41364",
   "metadata": {},
   "outputs": [],
   "source": [
    "## Reading file\n",
    "\n",
    "df = pd.read_csv('summer.csv')"
   ]
  },
  {
   "cell_type": "markdown",
   "id": "0d443ae3",
   "metadata": {},
   "source": [
    "## 1. Number of countries in which the olympics are done"
   ]
  },
  {
   "cell_type": "code",
   "execution_count": 3,
   "id": "fd638426",
   "metadata": {},
   "outputs": [
    {
     "data": {
      "text/plain": [
       "22"
      ]
     },
     "execution_count": 3,
     "metadata": {},
     "output_type": "execute_result"
    }
   ],
   "source": [
    "len(df['City'].unique())"
   ]
  },
  {
   "cell_type": "markdown",
   "id": "49205f0d",
   "metadata": {},
   "source": [
    "## 2. Sport which has more number of gold medals"
   ]
  },
  {
   "cell_type": "code",
   "execution_count": 4,
   "id": "bdbe6cc4",
   "metadata": {
    "scrolled": true
   },
   "outputs": [
    {
     "data": {
      "text/plain": [
       "<AxesSubplot:xlabel='Sport'>"
      ]
     },
     "execution_count": 4,
     "metadata": {},
     "output_type": "execute_result"
    },
    {
     "data": {
      "image/png": "[encoded data removed]",
      "text/plain": [
       "<Figure size 432x288 with 1 Axes>"
      ]
     },
     "metadata": {
      "needs_background": "light"
     },
     "output_type": "display_data"
    }
   ],
   "source": [
    "l = []\n",
    "lst = []\n",
    "\n",
    "p = df[df['Medal'] == 'Gold'] # I took the data in which medal is only gold\n",
    "data = p.values\n",
    "\n",
    "#Logic\n",
    "for Sport in df['Sport'].unique():\n",
    "    # code by wahid ....\n",
    "for Sport in df['Sport'].unique():\n",
    "    var = 0\n",
    "    for i in range(len(p)):\n",
    "        if(data[i][2] == Sport):\n",
    "            var += 1\n",
    "    lst.append([Sport,var]) # Counted the number of Sports and appended in list\n",
    "\n",
    "# Ploting first Five\n",
    "\n",
    "D = pd.DataFrame(lst,columns = ['Sport','Count']).sort_values(by = 'Count',ascending = False).head()\n",
    "D.plot(x = 'Sport', y = 'Count', kind = 'bar')\n",
    "\n",
    "# Aquatics has the most Gold medals"
   ]
  },
  {
   "cell_type": "markdown",
   "id": "26310505",
   "metadata": {},
   "source": [
    "# 3.Which sport is having most number of medals "
   ]
  },
  {
   "cell_type": "code",
   "execution_count": 5,
   "id": "b3dac483",
   "metadata": {},
   "outputs": [
    {
     "data": {
      "text/plain": [
       "<AxesSubplot:xlabel='Sport'>"
      ]
     },
     "execution_count": 5,
     "metadata": {},
     "output_type": "execute_result"
    },
    {
     "data": {
      "image/png": "[encoded data removed]",
      "text/plain": [
       "<Figure size 720x360 with 1 Axes>"
      ]
     },
     "metadata": {
      "needs_background": "light"
     },
     "output_type": "display_data"
    }
   ],
   "source": [
    "data_new = []\n",
    "\n",
    "#logic\n",
    "\n",
    "for i in df['Sport'].unique():\n",
    "    data_new.append([i , len(df[df['Sport']  == i])])\n",
    "    \n",
    "#Printing the answer\n",
    "\n",
    "pd.DataFrame(data_new,columns = ['Sport','No Of Medals']).sort_values(by='No Of Medals', ascending=False).head().plot(x = 'Sport', y = 'No Of Medals', kind = 'bar', figsize = (10,5))\n",
    "\n",
    "# Aquatics is the answer"
   ]
  },
  {
   "cell_type": "markdown",
   "id": "5ca9c359",
   "metadata": {},
   "source": [
    "# 4.Which player has won most number of medals?"
   ]
  },
  {
   "cell_type": "code",
   "execution_count": 6,
   "id": "9ed5b824",
   "metadata": {},
   "outputs": [
    {
     "data": {
      "text/html": [
       "<div>\n",
       "<style scoped>\n",
       "    .dataframe tbody tr th:only-of-type {\n",
       "        vertical-align: middle;\n",
       "    }\n",
       "\n",
       "    .dataframe tbody tr th {\n",
       "        vertical-align: top;\n",
       "    }\n",
       "\n",
       "    .dataframe thead th {\n",
       "        text-align: right;\n",
       "    }\n",
       "</style>\n",
       "<table border=\"1\" class=\"dataframe\">\n",
       "  <thead>\n",
       "    <tr style=\"text-align: right;\">\n",
       "      <th></th>\n",
       "      <th>Athlete</th>\n",
       "      <th>Count</th>\n",
       "    </tr>\n",
       "  </thead>\n",
       "  <tbody>\n",
       "    <tr>\n",
       "      <th>18640</th>\n",
       "      <td>PHELPS, Michael</td>\n",
       "      <td>22</td>\n",
       "    </tr>\n",
       "  </tbody>\n",
       "</table>\n",
       "</div>"
      ],
      "text/plain": [
       "               Athlete  Count\n",
       "18640  PHELPS, Michael     22"
      ]
     },
     "execution_count": 6,
     "metadata": {},
     "output_type": "execute_result"
    }
   ],
   "source": [
    "new_list = []\n",
    "\n",
    "#logic\n",
    "\n",
    "for m in df['Athlete'].unique():\n",
    "    new_list.append([m , len(df[df['Athlete']  == m])])\n",
    "\n",
    "    \n",
    "# Printing answers\n",
    "\n",
    "pd.DataFrame(new_list,columns = ['Athlete','Count']).sort_values(by='Count', ascending=False).head(1)\n",
    "\n",
    "# Michael has got more number of medals"
   ]
  },
  {
   "cell_type": "markdown",
   "id": "03966750",
   "metadata": {},
   "source": [
    "# 5. Which player has won most number of Gold Medals?"
   ]
  },
  {
   "cell_type": "code",
   "execution_count": 7,
   "id": "a34f54f3",
   "metadata": {},
   "outputs": [
    {
     "data": {
      "text/html": [
       "<div>\n",
       "<style scoped>\n",
       "    .dataframe tbody tr th:only-of-type {\n",
       "        vertical-align: middle;\n",
       "    }\n",
       "\n",
       "    .dataframe tbody tr th {\n",
       "        vertical-align: top;\n",
       "    }\n",
       "\n",
       "    .dataframe thead th {\n",
       "        text-align: right;\n",
       "    }\n",
       "</style>\n",
       "<table border=\"1\" class=\"dataframe\">\n",
       "  <thead>\n",
       "    <tr style=\"text-align: right;\">\n",
       "      <th></th>\n",
       "      <th>Player</th>\n",
       "      <th>Count</th>\n",
       "    </tr>\n",
       "  </thead>\n",
       "  <tbody>\n",
       "    <tr>\n",
       "      <th>18640</th>\n",
       "      <td>PHELPS, Michael</td>\n",
       "      <td>18</td>\n",
       "    </tr>\n",
       "  </tbody>\n",
       "</table>\n",
       "</div>"
      ],
      "text/plain": [
       "                Player  Count\n",
       "18640  PHELPS, Michael     18"
      ]
     },
     "execution_count": 7,
     "metadata": {},
     "output_type": "execute_result"
    }
   ],
   "source": [
    "lst = []\n",
    "\n",
    "p = df[df['Medal'] == 'Gold'] # I took the data in which medal is only gold\n",
    "data = p.values\n",
    "\n",
    "#Logic\n",
    "\n",
    "for player in df['Athlete'].unique():\n",
    "    var = 0\n",
    "    for i in range(len(p)):\n",
    "        if(data[i][4] == player):\n",
    "            var += 1\n",
    "    lst.append([player,var]) # Counted the number of players having gold medal and appended in list\n",
    "\n",
    "# Printing first Five\n",
    "lst\n",
    "D = pd.DataFrame(lst,columns = ['Player','Count']).sort_values(by = 'Count',ascending = False).head(1)\n",
    "D\n",
    "\n",
    "# Again Michael has got most of gold medals"
   ]
  },
  {
   "cell_type": "markdown",
   "id": "45107dc2",
   "metadata": {},
   "source": [
    "# 6. In which year India won first Gold Medal in Summer Olympics?"
   ]
  },
  {
   "cell_type": "code",
   "execution_count": 9,
   "id": "799b84fd",
   "metadata": {},
   "outputs": [
    {
     "data": {
      "text/plain": [
       "1928"
      ]
     },
     "execution_count": 9,
     "metadata": {},
     "output_type": "execute_result"
    }
   ],
   "source": [
    "#logic\n",
    "\n",
    "d = df[df['Country'] == 'IND'].groupby(['Medal']).first() # I have used 'groupby' method of pandas to get the medals since it gives the first occurence\n",
    "\n",
    "#Printing the answer\n",
    "\n",
    "d.values[1][0]"
   ]
  },
  {
   "cell_type": "markdown",
   "id": "86391fc1",
   "metadata": {},
   "source": [
    "# 7.Which event is most popular in terms on number of players? "
   ]
  },
  {
   "cell_type": "code",
   "execution_count": 10,
   "id": "47ef2617",
   "metadata": {},
   "outputs": [
    {
     "data": {
      "text/html": [
       "<div>\n",
       "<style scoped>\n",
       "    .dataframe tbody tr th:only-of-type {\n",
       "        vertical-align: middle;\n",
       "    }\n",
       "\n",
       "    .dataframe tbody tr th {\n",
       "        vertical-align: top;\n",
       "    }\n",
       "\n",
       "    .dataframe thead th {\n",
       "        text-align: right;\n",
       "    }\n",
       "</style>\n",
       "<table border=\"1\" class=\"dataframe\">\n",
       "  <thead>\n",
       "    <tr style=\"text-align: right;\">\n",
       "      <th></th>\n",
       "      <th>Event</th>\n",
       "      <th>count</th>\n",
       "    </tr>\n",
       "  </thead>\n",
       "  <tbody>\n",
       "    <tr>\n",
       "      <th>80</th>\n",
       "      <td>Football</td>\n",
       "      <td>1497</td>\n",
       "    </tr>\n",
       "  </tbody>\n",
       "</table>\n",
       "</div>"
      ],
      "text/plain": [
       "       Event  count\n",
       "80  Football   1497"
      ]
     },
     "execution_count": 10,
     "metadata": {},
     "output_type": "execute_result"
    }
   ],
   "source": [
    "newest_list = []\n",
    "\n",
    "#logic\n",
    "\n",
    "for j in df['Event'].unique():\n",
    "    newest_list.append([j , len(df[df['Event']  == j])])\n",
    "    \n",
    "#Printing answer\n",
    "\n",
    "pd.DataFrame(newest_list,columns = ['Event','count']).sort_values(by='count', ascending=False).head(1)"
   ]
  },
  {
   "cell_type": "markdown",
   "id": "28ed3fa9",
   "metadata": {},
   "source": [
    "# 8.Which sport is having most female Gold Medalists"
   ]
  },
  {
   "cell_type": "code",
   "execution_count": 11,
   "id": "23d6f667",
   "metadata": {},
   "outputs": [
    {
     "data": {
      "text/html": [
       "<div>\n",
       "<style scoped>\n",
       "    .dataframe tbody tr th:only-of-type {\n",
       "        vertical-align: middle;\n",
       "    }\n",
       "\n",
       "    .dataframe tbody tr th {\n",
       "        vertical-align: top;\n",
       "    }\n",
       "\n",
       "    .dataframe thead th {\n",
       "        text-align: right;\n",
       "    }\n",
       "</style>\n",
       "<table border=\"1\" class=\"dataframe\">\n",
       "  <thead>\n",
       "    <tr style=\"text-align: right;\">\n",
       "      <th></th>\n",
       "      <th>Sport</th>\n",
       "      <th>Count</th>\n",
       "    </tr>\n",
       "  </thead>\n",
       "  <tbody>\n",
       "    <tr>\n",
       "      <th>0</th>\n",
       "      <td>Aquatics</td>\n",
       "      <td>589</td>\n",
       "    </tr>\n",
       "    <tr>\n",
       "      <th>1</th>\n",
       "      <td>Athletics</td>\n",
       "      <td>389</td>\n",
       "    </tr>\n",
       "    <tr>\n",
       "      <th>4</th>\n",
       "      <td>Gymnastics</td>\n",
       "      <td>268</td>\n",
       "    </tr>\n",
       "    <tr>\n",
       "      <th>17</th>\n",
       "      <td>Rowing</td>\n",
       "      <td>217</td>\n",
       "    </tr>\n",
       "    <tr>\n",
       "      <th>35</th>\n",
       "      <td>Volleyball</td>\n",
       "      <td>166</td>\n",
       "    </tr>\n",
       "  </tbody>\n",
       "</table>\n",
       "</div>"
      ],
      "text/plain": [
       "         Sport  Count\n",
       "0     Aquatics    589\n",
       "1    Athletics    389\n",
       "4   Gymnastics    268\n",
       "17      Rowing    217\n",
       "35  Volleyball    166"
      ]
     },
     "execution_count": 11,
     "metadata": {},
     "output_type": "execute_result"
    }
   ],
   "source": [
    "lst = []\n",
    "\n",
    "p = df[df['Medal'] == 'Gold']# I took the data in which medal is only gold\n",
    "p = p[p['Gender'] == 'Women']\n",
    "data = p.values\n",
    "\n",
    "#Logic\n",
    "\n",
    "for Sport in df['Sport'].unique():\n",
    "    var = 0\n",
    "    for i in range(len(p)):\n",
    "        if(data[i][2] == Sport):\n",
    "            var += 1\n",
    "    lst.append([Sport,var]) # Counted the number of Sports and appended in list\n",
    "\n",
    "# Ploting first Five\n",
    "\n",
    "D = pd.DataFrame(lst,columns = ['Sport','Count']).sort_values(by = 'Count',ascending = False).head()\n",
    "D"
   ]
  },
  {
   "cell_type": "code",
   "execution_count": null,
   "id": "d0242b72",
   "metadata": {},
   "outputs": [],
   "source": []
  }
 ],
 "metadata": {
  "kernelspec": {
   "display_name": "Python 3",
   "language": "python",
   "name": "python3"
  },
  "language_info": {
   "codemirror_mode": {
    "name": "ipython",
    "version": 3
   },
   "file_extension": ".py",
   "mimetype": "text/x-python",
   "name": "python",
   "nbconvert_exporter": "python",
   "pygments_lexer": "ipython3",
   "version": "3.8.8"
  }
 },
 "nbformat": 4,
 "nbformat_minor": 5
}
